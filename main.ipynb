{
 "cells": [
  {
   "attachments": {},
   "cell_type": "markdown",
   "metadata": {},
   "source": [
    "# 수어 번역 AI 모델링"
   ]
  },
  {
   "attachments": {},
   "cell_type": "markdown",
   "metadata": {},
   "source": [
    "- 데이터 출처 : https://www.kaggle.com/datasets/datamunge/sign-language-mnist?select=sign_mnist_train"
   ]
  },
  {
   "cell_type": "code",
   "execution_count": 1,
   "metadata": {},
   "outputs": [],
   "source": [
    "import pandas as pd\n",
    "import numpy as np\n",
    "import matplotlib.pyplot as plt\n",
    "import seaborn as sns\n",
    "import random as rd\n",
    "import cv2\n",
    "import joblib\n",
    "\n",
    "from sklearn.model_selection import train_test_split\n",
    "from sklearn.metrics import *\n",
    "from sklearn.preprocessing import StandardScaler, MinMaxScaler\n",
    "\n",
    "import mlflow\n",
    "import mlflow.keras\n",
    "np.set_printoptions(linewidth=np.inf)"
   ]
  },
  {
   "cell_type": "code",
   "execution_count": 2,
   "metadata": {},
   "outputs": [],
   "source": [
    "# 학습곡선 함수\n",
    "def dl_history_plot(history):\n",
    "    plt.figure(figsize=(10,6))\n",
    "    plt.plot(history['loss'], label='train_err')\n",
    "    plt.plot(history['val_loss'], label='val_err')\n",
    "\n",
    "    plt.ylabel('Loss')\n",
    "    plt.xlabel('Epoch')\n",
    "    plt.legend()\n",
    "    plt.grid()\n",
    "    plt.show()"
   ]
  },
  {
   "cell_type": "code",
   "execution_count": 3,
   "metadata": {},
   "outputs": [
    {
     "data": {
      "text/html": [
       "<div>\n",
       "<style scoped>\n",
       "    .dataframe tbody tr th:only-of-type {\n",
       "        vertical-align: middle;\n",
       "    }\n",
       "\n",
       "    .dataframe tbody tr th {\n",
       "        vertical-align: top;\n",
       "    }\n",
       "\n",
       "    .dataframe thead th {\n",
       "        text-align: right;\n",
       "    }\n",
       "</style>\n",
       "<table border=\"1\" class=\"dataframe\">\n",
       "  <thead>\n",
       "    <tr style=\"text-align: right;\">\n",
       "      <th></th>\n",
       "      <th>label</th>\n",
       "      <th>pixel1</th>\n",
       "      <th>pixel2</th>\n",
       "      <th>pixel3</th>\n",
       "      <th>pixel4</th>\n",
       "      <th>pixel5</th>\n",
       "      <th>pixel6</th>\n",
       "      <th>pixel7</th>\n",
       "      <th>pixel8</th>\n",
       "      <th>pixel9</th>\n",
       "      <th>...</th>\n",
       "      <th>pixel775</th>\n",
       "      <th>pixel776</th>\n",
       "      <th>pixel777</th>\n",
       "      <th>pixel778</th>\n",
       "      <th>pixel779</th>\n",
       "      <th>pixel780</th>\n",
       "      <th>pixel781</th>\n",
       "      <th>pixel782</th>\n",
       "      <th>pixel783</th>\n",
       "      <th>pixel784</th>\n",
       "    </tr>\n",
       "  </thead>\n",
       "  <tbody>\n",
       "    <tr>\n",
       "      <th>0</th>\n",
       "      <td>22</td>\n",
       "      <td>186</td>\n",
       "      <td>186</td>\n",
       "      <td>185</td>\n",
       "      <td>185</td>\n",
       "      <td>185</td>\n",
       "      <td>184</td>\n",
       "      <td>185</td>\n",
       "      <td>184</td>\n",
       "      <td>184</td>\n",
       "      <td>...</td>\n",
       "      <td>171</td>\n",
       "      <td>122</td>\n",
       "      <td>65</td>\n",
       "      <td>62</td>\n",
       "      <td>215</td>\n",
       "      <td>180</td>\n",
       "      <td>99</td>\n",
       "      <td>47</td>\n",
       "      <td>31</td>\n",
       "      <td>25</td>\n",
       "    </tr>\n",
       "    <tr>\n",
       "      <th>1</th>\n",
       "      <td>24</td>\n",
       "      <td>175</td>\n",
       "      <td>177</td>\n",
       "      <td>179</td>\n",
       "      <td>181</td>\n",
       "      <td>181</td>\n",
       "      <td>182</td>\n",
       "      <td>182</td>\n",
       "      <td>182</td>\n",
       "      <td>183</td>\n",
       "      <td>...</td>\n",
       "      <td>202</td>\n",
       "      <td>202</td>\n",
       "      <td>201</td>\n",
       "      <td>200</td>\n",
       "      <td>199</td>\n",
       "      <td>197</td>\n",
       "      <td>195</td>\n",
       "      <td>193</td>\n",
       "      <td>191</td>\n",
       "      <td>189</td>\n",
       "    </tr>\n",
       "    <tr>\n",
       "      <th>2</th>\n",
       "      <td>6</td>\n",
       "      <td>187</td>\n",
       "      <td>187</td>\n",
       "      <td>187</td>\n",
       "      <td>187</td>\n",
       "      <td>187</td>\n",
       "      <td>186</td>\n",
       "      <td>187</td>\n",
       "      <td>186</td>\n",
       "      <td>186</td>\n",
       "      <td>...</td>\n",
       "      <td>45</td>\n",
       "      <td>23</td>\n",
       "      <td>25</td>\n",
       "      <td>34</td>\n",
       "      <td>41</td>\n",
       "      <td>43</td>\n",
       "      <td>39</td>\n",
       "      <td>40</td>\n",
       "      <td>43</td>\n",
       "      <td>35</td>\n",
       "    </tr>\n",
       "    <tr>\n",
       "      <th>3</th>\n",
       "      <td>2</td>\n",
       "      <td>169</td>\n",
       "      <td>169</td>\n",
       "      <td>169</td>\n",
       "      <td>170</td>\n",
       "      <td>169</td>\n",
       "      <td>170</td>\n",
       "      <td>169</td>\n",
       "      <td>169</td>\n",
       "      <td>169</td>\n",
       "      <td>...</td>\n",
       "      <td>204</td>\n",
       "      <td>203</td>\n",
       "      <td>200</td>\n",
       "      <td>199</td>\n",
       "      <td>198</td>\n",
       "      <td>196</td>\n",
       "      <td>194</td>\n",
       "      <td>193</td>\n",
       "      <td>191</td>\n",
       "      <td>190</td>\n",
       "    </tr>\n",
       "    <tr>\n",
       "      <th>4</th>\n",
       "      <td>21</td>\n",
       "      <td>153</td>\n",
       "      <td>165</td>\n",
       "      <td>170</td>\n",
       "      <td>179</td>\n",
       "      <td>190</td>\n",
       "      <td>198</td>\n",
       "      <td>203</td>\n",
       "      <td>206</td>\n",
       "      <td>213</td>\n",
       "      <td>...</td>\n",
       "      <td>161</td>\n",
       "      <td>122</td>\n",
       "      <td>132</td>\n",
       "      <td>96</td>\n",
       "      <td>75</td>\n",
       "      <td>63</td>\n",
       "      <td>37</td>\n",
       "      <td>43</td>\n",
       "      <td>70</td>\n",
       "      <td>66</td>\n",
       "    </tr>\n",
       "  </tbody>\n",
       "</table>\n",
       "<p>5 rows × 785 columns</p>\n",
       "</div>"
      ],
      "text/plain": [
       "   label  pixel1  pixel2  pixel3  pixel4  pixel5  pixel6  pixel7  pixel8   \n",
       "0     22     186     186     185     185     185     184     185     184  \\\n",
       "1     24     175     177     179     181     181     182     182     182   \n",
       "2      6     187     187     187     187     187     186     187     186   \n",
       "3      2     169     169     169     170     169     170     169     169   \n",
       "4     21     153     165     170     179     190     198     203     206   \n",
       "\n",
       "   pixel9  ...  pixel775  pixel776  pixel777  pixel778  pixel779  pixel780   \n",
       "0     184  ...       171       122        65        62       215       180  \\\n",
       "1     183  ...       202       202       201       200       199       197   \n",
       "2     186  ...        45        23        25        34        41        43   \n",
       "3     169  ...       204       203       200       199       198       196   \n",
       "4     213  ...       161       122       132        96        75        63   \n",
       "\n",
       "   pixel781  pixel782  pixel783  pixel784  \n",
       "0        99        47        31        25  \n",
       "1       195       193       191       189  \n",
       "2        39        40        43        35  \n",
       "3       194       193       191       190  \n",
       "4        37        43        70        66  \n",
       "\n",
       "[5 rows x 785 columns]"
      ]
     },
     "execution_count": 3,
     "metadata": {},
     "output_type": "execute_result"
    }
   ],
   "source": [
    "path = ''\n",
    "file = 'sign_language.csv'\n",
    "\n",
    "data = pd.read_csv(path+file)\n",
    "data.head()"
   ]
  },
  {
   "cell_type": "code",
   "execution_count": 4,
   "metadata": {},
   "outputs": [
    {
     "data": {
      "text/plain": [
       "(8000, 785)"
      ]
     },
     "execution_count": 4,
     "metadata": {},
     "output_type": "execute_result"
    }
   ],
   "source": [
    "data.shape"
   ]
  },
  {
   "attachments": {},
   "cell_type": "markdown",
   "metadata": {},
   "source": [
    "## 전처리"
   ]
  },
  {
   "cell_type": "code",
   "execution_count": 5,
   "metadata": {},
   "outputs": [],
   "source": [
    "## 학습데이터 전처리\n",
    "import string\n",
    "class_names = list(string.ascii_lowercase)\n",
    "class_names = np.array(class_names)\n",
    "len(class_names), class_names\n",
    "\n",
    "# x:y나누기\n",
    "target = 'label'\n",
    "x = data.drop(target, axis = 1)\n",
    "y = data.loc[:, target]\n",
    "\n",
    "# train, val, test 분할\n",
    "x_train, x_test, y_train, y_test = train_test_split(x, y, test_size = 1000, random_state = 20)\n",
    "x_train, x_val, y_train, y_val = train_test_split(x_train, y_train, test_size = 2000, random_state = 20)\n",
    "\n",
    "# 모두 넘파이로 변환\n",
    "x_train, x_val, y_train, y_val = x_train.values, x_val.values, y_train.values, y_val.values\n",
    "\n",
    "# shape 맞추기\n",
    "x_train = x_train.reshape(-1,28,28,1)\n",
    "x_val = x_val.reshape(-1,28,28,1)\n",
    "\n",
    "#스케일링 min max\n",
    "x_train_s = x_train / 255.\n",
    "x_val_s = x_val / 255."
   ]
  },
  {
   "attachments": {},
   "cell_type": "markdown",
   "metadata": {},
   "source": [
    "## 모델링\n",
    "- mlflow : 훈련과정에서의 정보를 기록\n",
    "- 로컬 mlflow 서버 실행 : mlflow server --backend-store-uri sqlite:///mlflow.db --default-artifact-root ./artifacts"
   ]
  },
  {
   "cell_type": "code",
   "execution_count": 6,
   "metadata": {},
   "outputs": [],
   "source": [
    "# 추적준비\n",
    "mlflow_uri = 'sqlite:///mlflow.db' #개인용 mlflowdb에서 추적\n",
    "mlflow.set_tracking_uri(mlflow_uri)"
   ]
  },
  {
   "cell_type": "code",
   "execution_count": 7,
   "metadata": {},
   "outputs": [
    {
     "name": "stderr",
     "output_type": "stream",
     "text": [
      "2023/05/20 13:47:05 INFO mlflow.store.db.utils: Creating initial MLflow database tables...\n",
      "2023/05/20 13:47:06 INFO mlflow.store.db.utils: Updating database tables\n",
      "INFO  [alembic.runtime.migration] Context impl SQLiteImpl.\n",
      "INFO  [alembic.runtime.migration] Will assume non-transactional DDL.\n",
      "INFO  [alembic.runtime.migration] Running upgrade  -> 451aebb31d03, add metric step\n",
      "INFO  [alembic.runtime.migration] Running upgrade 451aebb31d03 -> 90e64c465722, migrate user column to tags\n",
      "INFO  [alembic.runtime.migration] Running upgrade 90e64c465722 -> 181f10493468, allow nulls for metric values\n",
      "INFO  [alembic.runtime.migration] Running upgrade 181f10493468 -> df50e92ffc5e, Add Experiment Tags Table\n",
      "INFO  [alembic.runtime.migration] Running upgrade df50e92ffc5e -> 7ac759974ad8, Update run tags with larger limit\n",
      "INFO  [alembic.runtime.migration] Running upgrade 7ac759974ad8 -> 89d4b8295536, create latest metrics table\n",
      "INFO  [89d4b8295536_create_latest_metrics_table_py] Migration complete!\n",
      "INFO  [alembic.runtime.migration] Running upgrade 89d4b8295536 -> 2b4d017a5e9b, add model registry tables to db\n",
      "INFO  [2b4d017a5e9b_add_model_registry_tables_to_db_py] Adding registered_models and model_versions tables to database.\n",
      "INFO  [2b4d017a5e9b_add_model_registry_tables_to_db_py] Migration complete!\n",
      "INFO  [alembic.runtime.migration] Running upgrade 2b4d017a5e9b -> cfd24bdc0731, Update run status constraint with killed\n",
      "INFO  [alembic.runtime.migration] Running upgrade cfd24bdc0731 -> 0a8213491aaa, drop_duplicate_killed_constraint\n",
      "INFO  [alembic.runtime.migration] Running upgrade 0a8213491aaa -> 728d730b5ebd, add registered model tags table\n",
      "INFO  [alembic.runtime.migration] Running upgrade 728d730b5ebd -> 27a6a02d2cf1, add model version tags table\n",
      "INFO  [alembic.runtime.migration] Running upgrade 27a6a02d2cf1 -> 84291f40a231, add run_link to model_version\n",
      "INFO  [alembic.runtime.migration] Running upgrade 84291f40a231 -> a8c4a736bde6, allow nulls for run_id\n",
      "INFO  [alembic.runtime.migration] Running upgrade a8c4a736bde6 -> 39d1c3be5f05, add_is_nan_constraint_for_metrics_tables_if_necessary\n",
      "INFO  [alembic.runtime.migration] Running upgrade 39d1c3be5f05 -> c48cb773bb87, reset_default_value_for_is_nan_in_metrics_table_for_mysql\n",
      "INFO  [alembic.runtime.migration] Running upgrade c48cb773bb87 -> bd07f7e963c5, create index on run_uuid\n",
      "INFO  [alembic.runtime.migration] Running upgrade bd07f7e963c5 -> 0c779009ac13, add deleted_time field to runs table\n",
      "INFO  [alembic.runtime.migration] Running upgrade 0c779009ac13 -> cc1f77228345, change param value length to 500\n",
      "INFO  [alembic.runtime.migration] Running upgrade cc1f77228345 -> 97727af70f4d, Add creation_time and last_update_time to experiments table\n",
      "INFO  [alembic.runtime.migration] Running upgrade 97727af70f4d -> 3500859a5d39, Add Model Aliases table\n",
      "INFO  [alembic.runtime.migration] Context impl SQLiteImpl.\n",
      "INFO  [alembic.runtime.migration] Will assume non-transactional DDL.\n"
     ]
    },
    {
     "data": {
      "text/plain": [
       "'1'"
      ]
     },
     "execution_count": 7,
     "metadata": {},
     "output_type": "execute_result"
    }
   ],
   "source": [
    "#새 실험 생성\n",
    "exp_id = mlflow.create_experiment('exp_sign_lang')\n",
    "exp_id"
   ]
  },
  {
   "cell_type": "code",
   "execution_count": 9,
   "metadata": {},
   "outputs": [],
   "source": [
    "#모델학습\n",
    "from keras.models import Sequential\n",
    "from keras.layers import Input,Dense, Flatten, Conv2D, MaxPooling2D\n",
    "from keras.backend import clear_session\n",
    "from keras.optimizers import Adam"
   ]
  },
  {
   "cell_type": "code",
   "execution_count": 10,
   "metadata": {},
   "outputs": [
    {
     "data": {
      "text/plain": [
       "(28, 1, 26)"
      ]
     },
     "execution_count": 10,
     "metadata": {},
     "output_type": "execute_result"
    }
   ],
   "source": [
    "INPUT_SIZE = x_train.shape[1]\n",
    "CH = x_train.shape[-1]\n",
    "# OUTPUT_SIZE = data['label'].nunique()\n",
    "OUTPUT_SIZE = len(class_names)\n",
    "INPUT_SIZE,CH, OUTPUT_SIZE"
   ]
  },
  {
   "cell_type": "code",
   "execution_count": 15,
   "metadata": {},
   "outputs": [
    {
     "name": "stdout",
     "output_type": "stream",
     "text": [
      "Epoch 1/30\n",
      "125/125 [==============================] - 4s 26ms/step - loss: 2.6480 - accuracy: 0.2743 - val_loss: 1.7580 - val_accuracy: 0.6010\n",
      "Epoch 2/30\n",
      "125/125 [==============================] - 3s 21ms/step - loss: 1.2759 - accuracy: 0.6705 - val_loss: 0.9411 - val_accuracy: 0.7670\n",
      "Epoch 3/30\n",
      "125/125 [==============================] - 3s 22ms/step - loss: 0.7482 - accuracy: 0.8158 - val_loss: 0.6771 - val_accuracy: 0.8370\n",
      "Epoch 4/30\n",
      "125/125 [==============================] - 3s 22ms/step - loss: 0.4893 - accuracy: 0.8910 - val_loss: 0.4758 - val_accuracy: 0.9060\n",
      "Epoch 5/30\n",
      "125/125 [==============================] - 3s 28ms/step - loss: 0.3416 - accuracy: 0.9315 - val_loss: 0.3641 - val_accuracy: 0.9130\n",
      "Epoch 6/30\n",
      "125/125 [==============================] - 4s 29ms/step - loss: 0.2522 - accuracy: 0.9505 - val_loss: 0.2788 - val_accuracy: 0.9410\n",
      "Epoch 7/30\n",
      "125/125 [==============================] - 4s 30ms/step - loss: 0.1884 - accuracy: 0.9647 - val_loss: 0.2654 - val_accuracy: 0.9310\n",
      "Epoch 8/30\n",
      "125/125 [==============================] - 4s 30ms/step - loss: 0.1451 - accuracy: 0.9765 - val_loss: 0.1801 - val_accuracy: 0.9680\n",
      "Epoch 9/30\n",
      "125/125 [==============================] - 4s 31ms/step - loss: 0.1078 - accuracy: 0.9883 - val_loss: 0.1561 - val_accuracy: 0.9660\n",
      "Epoch 10/30\n",
      "125/125 [==============================] - 4s 30ms/step - loss: 0.0828 - accuracy: 0.9927 - val_loss: 0.1480 - val_accuracy: 0.9710\n",
      "Epoch 11/30\n",
      "125/125 [==============================] - 3s 26ms/step - loss: 0.0703 - accuracy: 0.9923 - val_loss: 0.0995 - val_accuracy: 0.9840\n",
      "Epoch 12/30\n",
      "125/125 [==============================] - 3s 24ms/step - loss: 0.0517 - accuracy: 0.9965 - val_loss: 0.0883 - val_accuracy: 0.9860\n",
      "Epoch 13/30\n",
      "125/125 [==============================] - 3s 23ms/step - loss: 0.0424 - accuracy: 0.9983 - val_loss: 0.0978 - val_accuracy: 0.9830\n",
      "Epoch 14/30\n",
      "125/125 [==============================] - 3s 21ms/step - loss: 0.0363 - accuracy: 0.9980 - val_loss: 0.0796 - val_accuracy: 0.9870\n",
      "Epoch 15/30\n",
      "125/125 [==============================] - 3s 21ms/step - loss: 0.0302 - accuracy: 0.9992 - val_loss: 0.0644 - val_accuracy: 0.9910\n",
      "Epoch 16/30\n",
      "125/125 [==============================] - 3s 22ms/step - loss: 0.0257 - accuracy: 0.9990 - val_loss: 0.0614 - val_accuracy: 0.9880\n",
      "Epoch 17/30\n",
      "125/125 [==============================] - 3s 20ms/step - loss: 0.0206 - accuracy: 1.0000 - val_loss: 0.0631 - val_accuracy: 0.9880\n",
      "Epoch 18/30\n",
      "125/125 [==============================] - 3s 20ms/step - loss: 0.0189 - accuracy: 0.9998 - val_loss: 0.0548 - val_accuracy: 0.9910\n",
      "Epoch 19/30\n",
      "125/125 [==============================] - 3s 20ms/step - loss: 0.0152 - accuracy: 0.9998 - val_loss: 0.0516 - val_accuracy: 0.9910\n",
      "Epoch 20/30\n",
      "125/125 [==============================] - 3s 21ms/step - loss: 0.0151 - accuracy: 0.9995 - val_loss: 0.0637 - val_accuracy: 0.9850\n",
      "Epoch 21/30\n",
      "125/125 [==============================] - 3s 21ms/step - loss: 0.0131 - accuracy: 1.0000 - val_loss: 0.0458 - val_accuracy: 0.9900\n",
      "Epoch 22/30\n",
      "125/125 [==============================] - 3s 21ms/step - loss: 0.0107 - accuracy: 0.9998 - val_loss: 0.0515 - val_accuracy: 0.9900\n",
      "Epoch 23/30\n",
      "125/125 [==============================] - 3s 21ms/step - loss: 0.0097 - accuracy: 1.0000 - val_loss: 0.0473 - val_accuracy: 0.9920\n",
      "Epoch 24/30\n",
      "125/125 [==============================] - 2s 20ms/step - loss: 0.0081 - accuracy: 1.0000 - val_loss: 0.0428 - val_accuracy: 0.9910\n",
      "Epoch 25/30\n",
      "125/125 [==============================] - 3s 21ms/step - loss: 0.0077 - accuracy: 1.0000 - val_loss: 0.0389 - val_accuracy: 0.9910\n",
      "Epoch 26/30\n",
      "125/125 [==============================] - 3s 24ms/step - loss: 0.0070 - accuracy: 0.9998 - val_loss: 0.0434 - val_accuracy: 0.9910\n",
      "Epoch 27/30\n",
      "125/125 [==============================] - 3s 24ms/step - loss: 0.0065 - accuracy: 1.0000 - val_loss: 0.0405 - val_accuracy: 0.9900\n",
      "Epoch 28/30\n",
      "124/125 [============================>.] - ETA: 0s - loss: 0.0056 - accuracy: 1.0000Restoring model weights from the end of the best epoch: 25.\n",
      "125/125 [==============================] - 3s 26ms/step - loss: 0.0056 - accuracy: 1.0000 - val_loss: 0.0391 - val_accuracy: 0.9910\n",
      "Epoch 28: early stopping\n",
      "1/1 [==============================] - 0s 207ms/step\n"
     ]
    },
    {
     "name": "stderr",
     "output_type": "stream",
     "text": [
      "WARNI [absl] Found untraced functions such as _jit_compiled_convolution_op, _update_step_xla while saving (showing 2 of 2). These functions will not be directly callable after loading.\n",
      "2023/05/20 13:58:43 WARNING mlflow.tensorflow: You are saving a TensorFlow Core model or Keras model without a signature. Inference with mlflow.pyfunc.spark_udf() will not work unless the model's pyfunc representation accepts pandas DataFrames as inference inputs.\n",
      "WARNI [absl] Found untraced functions such as _jit_compiled_convolution_op, _update_step_xla while saving (showing 2 of 2). These functions will not be directly callable after loading.\n",
      "Registered model 'Sign_Signal' already exists. Creating a new version of this model...\n",
      "2023/05/20 13:59:02 INFO mlflow.tracking._model_registry.client: Waiting up to 300 seconds for model version to finish creation. Model name: Sign_Signal, version 2\n",
      "Created version '2' of model 'Sign_Signal'.\n"
     ]
    }
   ],
   "source": [
    "from keras.callbacks import EarlyStopping\n",
    "# 얼리스토핑 적용시  val_loss, val_acc 등 자동 기록 \n",
    "with mlflow.start_run(experiment_id= exp_id, run_name = 'base_CNN'):\n",
    "    \n",
    "    #오토로그 시작\n",
    "    mlflow.keras.autolog()\n",
    "    #1. backend session clear\n",
    "    clear_session() #이게 필요할까?\n",
    "\n",
    "    #2. model선언, 설계\n",
    "    model = Sequential([Input(shape = (INPUT_SIZE, INPUT_SIZE,CH)),\n",
    "                        Conv2D(64, (3, 3),padding='same', activation='relu'),\n",
    "                        MaxPooling2D((2, 2)),\n",
    "                        Flatten(),\n",
    "                        Dense(OUTPUT_SIZE, activation='softmax')])\n",
    "\n",
    "\n",
    "    #3. 모델 컴파일\n",
    "    model.compile(loss = \"sparse_categorical_crossentropy\", metrics = ['accuracy'], optimizer = 'adam') \n",
    "    \n",
    "    es = EarlyStopping(monitor = 'val_loss',\n",
    "                       min_delta = 0,\n",
    "                       patience = 3,\n",
    "                       verbose=1,\n",
    "                       restore_best_weights = True)\n",
    "    # 학습\n",
    "    history = model.fit(x_train_s, y_train, epochs = 30, validation_split = .2, callbacks = [es]).history\n",
    "    \n",
    "    # 모델 등록\n",
    "    mlflow.keras.log_model(model, 'cnn-model', registered_model_name = \"Sign_Signal\")\n",
    "    \n",
    "    #오토로그 종료\n",
    "    mlflow.keras.autolog(disable=True)\n",
    "    "
   ]
  },
  {
   "cell_type": "code",
   "execution_count": 16,
   "metadata": {},
   "outputs": [
    {
     "data": {
      "image/png": "[encoded data removed]",
      "text/plain": [
       "<Figure size 1000x600 with 1 Axes>"
      ]
     },
     "metadata": {},
     "output_type": "display_data"
    }
   ],
   "source": [
    "# 학습곡선\n",
    "dl_history_plot(history) \n"
   ]
  },
  {
   "cell_type": "code",
   "execution_count": 17,
   "metadata": {},
   "outputs": [
    {
     "name": "stdout",
     "output_type": "stream",
     "text": [
      "63/63 [==============================] - 1s 8ms/step\n",
      "실제: [15  6 11 12 18 11 15  0 19 24]\n",
      "예측: [15  6 11 12 18 11 15  0 19 24]\n",
      "0.9925\n",
      "0.9925604902399305\n",
      "              precision    recall  f1-score   support\n",
      "\n",
      "           a       1.00      1.00      1.00        77\n",
      "           b       1.00      1.00      1.00        64\n",
      "           c       1.00      1.00      1.00        69\n",
      "           d       1.00      1.00      1.00        96\n",
      "           e       1.00      0.94      0.97        69\n",
      "           f       1.00      0.98      0.99       103\n",
      "           g       1.00      1.00      1.00        80\n",
      "           h       1.00      0.98      0.99        81\n",
      "           i       0.99      1.00      0.99        85\n",
      "           k       0.99      1.00      0.99        81\n",
      "           l       1.00      1.00      1.00        86\n",
      "           m       0.97      1.00      0.98        93\n",
      "           n       1.00      1.00      1.00        71\n",
      "           o       1.00      0.98      0.99        87\n",
      "           p       1.00      1.00      1.00        84\n",
      "           q       1.00      1.00      1.00        94\n",
      "           r       1.00      0.97      0.98        89\n",
      "           s       0.96      1.00      0.98        94\n",
      "           t       0.98      1.00      0.99        91\n",
      "           u       0.96      1.00      0.98        77\n",
      "           v       0.99      1.00      0.99        72\n",
      "           w       1.00      0.99      0.99        86\n",
      "           x       1.00      1.00      1.00        90\n",
      "           y       1.00      0.99      0.99        81\n",
      "\n",
      "    accuracy                           0.99      2000\n",
      "   macro avg       0.99      0.99      0.99      2000\n",
      "weighted avg       0.99      0.99      0.99      2000\n",
      "\n"
     ]
    }
   ],
   "source": [
    "# val에대해 예측/성능평가\n",
    "y_pred = model.predict(x_val_s)\n",
    "y_pred0 = y_pred.argmax(axis=1)\n",
    "\n",
    "print(\"실제:\",y_pred0[:10])\n",
    "print(\"예측:\",y_val[:10])\n",
    "print(accuracy_score(y_val, y_pred0))\n",
    "print(f1_score(y_val, y_pred0, average = 'macro')) #multi class의 경우 average 를 설정해줘야한다.\n",
    "print(classification_report(class_names[y_val], class_names[y_pred0]))"
   ]
  },
  {
   "attachments": {},
   "cell_type": "markdown",
   "metadata": {},
   "source": [
    "## 성능평가(test)"
   ]
  },
  {
   "cell_type": "code",
   "execution_count": 19,
   "metadata": {},
   "outputs": [],
   "source": [
    "#모델 사용해서 성능평가\n",
    "model_uri = 'models:/Sign_Signal/production'\n",
    "model_prod = mlflow.keras.load_model(model_uri)"
   ]
  },
  {
   "cell_type": "code",
   "execution_count": 20,
   "metadata": {},
   "outputs": [],
   "source": [
    "#  x_test 준비 -> 넘파이 변환/ reshape/ scailing\n",
    "x_test = x_test.values\n",
    "x_test = x_test.reshape(-1,28,28,1)\n",
    "x_test_s = x_test/255."
   ]
  },
  {
   "cell_type": "code",
   "execution_count": 28,
   "metadata": {},
   "outputs": [],
   "source": [
    "type(y_test)\n",
    "y_test = y_test.values"
   ]
  },
  {
   "cell_type": "code",
   "execution_count": 29,
   "metadata": {},
   "outputs": [
    {
     "name": "stdout",
     "output_type": "stream",
     "text": [
      "32/32 [==============================] - 0s 7ms/step\n",
      "실제: [15 10  6 17  2  0  6 17 16 23]\n",
      "예측: [15 10  6 17  2  0  6 17 16 23]\n",
      "0.991\n",
      "0.9907562919108974\n",
      "              precision    recall  f1-score   support\n",
      "\n",
      "           a       1.00      1.00      1.00        46\n",
      "           b       1.00      1.00      1.00        39\n",
      "           c       1.00      1.00      1.00        43\n",
      "           d       1.00      1.00      1.00        45\n",
      "           e       1.00      0.93      0.96        40\n",
      "           f       1.00      1.00      1.00        42\n",
      "           g       1.00      1.00      1.00        45\n",
      "           h       1.00      1.00      1.00        43\n",
      "           i       1.00      1.00      1.00        42\n",
      "           k       1.00      1.00      1.00        37\n",
      "           l       1.00      1.00      1.00        39\n",
      "           m       0.96      1.00      0.98        45\n",
      "           n       1.00      1.00      1.00        42\n",
      "           o       1.00      1.00      1.00        34\n",
      "           p       1.00      1.00      1.00        33\n",
      "           q       1.00      1.00      1.00        44\n",
      "           r       0.98      0.98      0.98        53\n",
      "           s       0.98      1.00      0.99        42\n",
      "           t       1.00      1.00      1.00        51\n",
      "           u       0.98      0.92      0.95        49\n",
      "           v       0.88      1.00      0.94        30\n",
      "           w       1.00      0.97      0.98        33\n",
      "           x       1.00      1.00      1.00        46\n",
      "           y       1.00      1.00      1.00        37\n",
      "\n",
      "    accuracy                           0.99      1000\n",
      "   macro avg       0.99      0.99      0.99      1000\n",
      "weighted avg       0.99      0.99      0.99      1000\n",
      "\n"
     ]
    }
   ],
   "source": [
    "# val에대해 예측/성능평가\n",
    "y_pred = model_prod.predict(x_test_s)\n",
    "y_pred0 = y_pred.argmax(axis=1)\n",
    "\n",
    "print(\"실제:\",y_pred0[:10])\n",
    "print(\"예측:\",y_test[:10])\n",
    "print(accuracy_score(y_test, y_pred0))\n",
    "print(f1_score(y_test, y_pred0, average = 'macro')) #multi class의 경우 average 를 설정해줘야한다.\n",
    "print(classification_report(class_names[y_test], class_names[y_pred0]))"
   ]
  },
  {
   "attachments": {},
   "cell_type": "markdown",
   "metadata": {},
   "source": [
    "## 새로운 데이터에 대해 분류하기(운영 서비스)"
   ]
  },
  {
   "cell_type": "code",
   "execution_count": 33,
   "metadata": {},
   "outputs": [
    {
     "name": "stdout",
     "output_type": "stream",
     "text": [
      "1/1 [==============================] - 0s 33ms/step\n",
      "['y']\n"
     ]
    }
   ],
   "source": [
    "# 모델로 새로운 이미지 분류해보기 \n",
    "# 파이프라인에서 필요한 라이브러리/함수\n",
    "import pandas as pd\n",
    "import numpy as np\n",
    "import cv2\n",
    "import joblib\n",
    "\n",
    "# class names 준비\n",
    "class_names = list(string.ascii_lowercase)\n",
    "class_names = np.array(class_names)\n",
    "\n",
    "# 파일 로딩\n",
    "file = 'test_imgs/y.jpg'\n",
    "\n",
    "# 흑백으로 읽기\n",
    "img = cv2.imread(file , cv2.IMREAD_GRAYSCALE)\n",
    "\n",
    "# 크기 조정\n",
    "img = cv2.resize(img, (28, 28))\n",
    "\n",
    "# input shape 맞추기\n",
    "test_sign = img.reshape(1,28,28,1)\n",
    "\n",
    "# 스케일링\n",
    "test_sign = test_sign / 255.\n",
    "\n",
    "# 모델 로딩\n",
    "# model2 = joblib.load('model.pkl')\n",
    "\n",
    "# 예측\n",
    "pred = model_prod.predict(test_sign)\n",
    "pred_1 = pred.argmax(axis=1)\n",
    "print(class_names[pred_1])"
   ]
  },
  {
   "cell_type": "code",
   "execution_count": null,
   "metadata": {},
   "outputs": [],
   "source": []
  }
 ],
 "metadata": {
  "kernelspec": {
   "display_name": "slc",
   "language": "python",
   "name": "python3"
  },
  "language_info": {
   "codemirror_mode": {
    "name": "ipython",
    "version": 3
   },
   "file_extension": ".py",
   "mimetype": "text/x-python",
   "name": "python",
   "nbconvert_exporter": "python",
   "pygments_lexer": "ipython3",
   "version": "3.10.11"
  },
  "orig_nbformat": 4
 },
 "nbformat": 4,
 "nbformat_minor": 2
}
